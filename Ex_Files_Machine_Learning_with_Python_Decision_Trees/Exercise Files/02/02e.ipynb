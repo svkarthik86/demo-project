{
 "cells": [
  {
   "cell_type": "markdown",
   "id": "11963cc7",
   "metadata": {},
   "source": [
    "# Working with Classification Trees in Python\n",
    "\n",
    "## Learning Objectives\n",
    "Decision Trees are one of the most popular approaches to supervised machine learning. Decison Trees use an inverted tree-like structure to model the relationship between independent variables and a dependent variable. A tree with a categorical dependent variable is known as a **Classification Tree**. By the end of this tutorial, you will have learned:\n",
    "\n",
    "+ How to import, explore and prepare data\n",
    "+ How to build a Classification Tree model\n",
    "+ How to visualize the structure of a Classification Tree\n",
    "+ How to Prune a Classification Tree "
   ]
  },
  {
   "cell_type": "markdown",
   "id": "2887bb87",
   "metadata": {},
   "source": [
    "## 1. Collect the Data"
   ]
  },
  {
   "cell_type": "code",
   "execution_count": null,
   "id": "046f5901",
   "metadata": {},
   "outputs": [],
   "source": [
    "import pandas as pd\n",
    "loan = pd.read_csv(\"loan.csv\")\n",
    "loan.head()"
   ]
  },
  {
   "cell_type": "markdown",
   "id": "e6095cae",
   "metadata": {},
   "source": [
    "## 2. Explore the Data"
   ]
  },
  {
   "cell_type": "code",
   "execution_count": null,
   "id": "67de73e2",
   "metadata": {},
   "outputs": [],
   "source": [
    "loan.info()"
   ]
  },
  {
   "cell_type": "code",
   "execution_count": null,
   "id": "acdf6ca5",
   "metadata": {},
   "outputs": [],
   "source": [
    "loan.describe()"
   ]
  },
  {
   "cell_type": "code",
   "execution_count": null,
   "id": "7239372b",
   "metadata": {},
   "outputs": [],
   "source": [
    "%matplotlib inline\n",
    "from matplotlib import pyplot as plt\n",
    "import seaborn as sns"
   ]
  },
  {
   "cell_type": "code",
   "execution_count": null,
   "id": "9308d55a",
   "metadata": {},
   "outputs": [],
   "source": [
    "ax = sns.boxplot(data = loan, x = 'Default', y = 'Income')"
   ]
  },
  {
   "cell_type": "code",
   "execution_count": null,
   "id": "bcb7b490",
   "metadata": {},
   "outputs": [],
   "source": [
    "ax = sns.boxplot(data = loan, x = 'Default', y = 'Loan Amount')"
   ]
  },
  {
   "cell_type": "code",
   "execution_count": null,
   "id": "4bb3233e",
   "metadata": {},
   "outputs": [],
   "source": [
    "ax = sns.scatterplot(data = loan, \n",
    "                     x = 'Loan Amount', \n",
    "                     y = 'Income', \n",
    "                     hue = 'Default', \n",
    "                     style = 'Default', \n",
    "                     markers = ['^','o'], \n",
    "                     s = 150)\n",
    "ax = plt.legend(bbox_to_anchor = (1.02, 1), loc = 'upper left')"
   ]
  },
  {
   "cell_type": "markdown",
   "id": "d6d214f4",
   "metadata": {},
   "source": [
    "## 3. Prepare the Data"
   ]
  },
  {
   "cell_type": "code",
   "execution_count": null,
   "id": "a570e61b",
   "metadata": {
    "scrolled": false
   },
   "outputs": [],
   "source": [
    "y = loan[['Default']]"
   ]
  },
  {
   "cell_type": "code",
   "execution_count": null,
   "id": "1fda732e",
   "metadata": {
    "scrolled": false
   },
   "outputs": [],
   "source": [
    "X = loan[['Income', 'Loan Amount']]"
   ]
  },
  {
   "cell_type": "code",
   "execution_count": null,
   "id": "346cdb9d",
   "metadata": {},
   "outputs": [],
   "source": [
    "from sklearn.model_selection import train_test_split\n",
    "X_train, X_test, y_train, y_test = train_test_split(X, y,\n",
    "                                                    train_size = 0.8,\n",
    "                                                    stratify = y,\n",
    "                                                    random_state = 1234) "
   ]
  },
  {
   "cell_type": "code",
   "execution_count": null,
   "id": "66162c9a",
   "metadata": {
    "scrolled": false
   },
   "outputs": [],
   "source": [
    "X_train.shape, X_test.shape"
   ]
  },
  {
   "cell_type": "markdown",
   "id": "7e67d2b0",
   "metadata": {},
   "source": [
    "## 4. Train and Evaluate the Classification Tree"
   ]
  },
  {
   "cell_type": "code",
   "execution_count": null,
   "id": "263345cf",
   "metadata": {},
   "outputs": [],
   "source": [
    "from sklearn.tree import DecisionTreeClassifier\n",
    "classifier = DecisionTreeClassifier(random_state = 1234)"
   ]
  },
  {
   "cell_type": "code",
   "execution_count": null,
   "id": "eafcb43f",
   "metadata": {},
   "outputs": [],
   "source": [
    "model = classifier.fit(X_train, y_train)"
   ]
  },
  {
   "cell_type": "code",
   "execution_count": null,
   "id": "20fa1a33",
   "metadata": {
    "scrolled": false
   },
   "outputs": [],
   "source": [
    "model.score(X_test, y_test)"
   ]
  },
  {
   "cell_type": "markdown",
   "id": "427b2a5e",
   "metadata": {},
   "source": [
    "## 5. Visualize the Classification Tree"
   ]
  },
  {
   "cell_type": "code",
   "execution_count": null,
   "id": "964ecd4e",
   "metadata": {
    "scrolled": false
   },
   "outputs": [],
   "source": [
    "from sklearn import tree\n",
    "plt.figure(figsize = (15,15))\n",
    "tree.plot_tree(model, \n",
    "                   feature_names = list(X.columns), \n",
    "                   class_names = ['No','Yes'],\n",
    "                   filled = True);"
   ]
  },
  {
   "cell_type": "code",
   "execution_count": null,
   "id": "a4fbd365",
   "metadata": {
    "scrolled": false
   },
   "outputs": [],
   "source": [
    "importance = model.feature_importances_\n",
    "feature_importance = pd.Series(importance, index = X.columns)\n",
    "feature_importance.plot(kind = 'bar')\n",
    "plt.ylabel('Importance');"
   ]
  },
  {
   "cell_type": "markdown",
   "id": "e01f8ee5",
   "metadata": {},
   "source": [
    "## 6. Prune the Classification Tree"
   ]
  },
  {
   "cell_type": "code",
   "execution_count": null,
   "id": "d522c7ca",
   "metadata": {
    "scrolled": false
   },
   "outputs": [],
   "source": [
    "model.score(X_train, y_train)"
   ]
  },
  {
   "cell_type": "code",
   "execution_count": null,
   "id": "d9a48afd",
   "metadata": {},
   "outputs": [],
   "source": [
    "model.score(X_test, y_test)"
   ]
  },
  {
   "cell_type": "code",
   "execution_count": null,
   "id": "46d647e1",
   "metadata": {},
   "outputs": [],
   "source": [
    "grid = {'max_depth': [2, 3, 4, 5],\n",
    "         'min_samples_split': [2, 3, 4],\n",
    "         'min_samples_leaf': range(1, 7)}"
   ]
  },
  {
   "cell_type": "code",
   "execution_count": null,
   "id": "11ac25d6",
   "metadata": {},
   "outputs": [],
   "source": [
    "from sklearn.model_selection import GridSearchCV\n",
    "classifier = DecisionTreeClassifier(random_state = 1234)\n",
    "gcv = GridSearchCV(estimator = classifier, param_grid = grid)\n",
    "gcv.fit(X_train, y_train)"
   ]
  },
  {
   "cell_type": "code",
   "execution_count": null,
   "id": "d1aaf2bc",
   "metadata": {},
   "outputs": [],
   "source": [
    "model_ = gcv.best_estimator_\n",
    "model_.fit(X_train, y_train)"
   ]
  },
  {
   "cell_type": "code",
   "execution_count": null,
   "id": "f3f8ceb3",
   "metadata": {},
   "outputs": [],
   "source": [
    "model_.score(X_train, y_train)"
   ]
  },
  {
   "cell_type": "code",
   "execution_count": null,
   "id": "c754c536",
   "metadata": {},
   "outputs": [],
   "source": [
    "model_.score(X_test, y_test)"
   ]
  },
  {
   "cell_type": "code",
   "execution_count": null,
   "id": "1e59c081",
   "metadata": {},
   "outputs": [],
   "source": [
    "plt.figure(figsize = (8,8))\n",
    "tree.plot_tree(model_, \n",
    "                   feature_names = list(X.columns), \n",
    "                   class_names = ['No','Yes'],\n",
    "                   filled = True);"
   ]
  }
 ],
 "metadata": {
  "kernelspec": {
   "display_name": "Python 3 (ipykernel)",
   "language": "python",
   "name": "python3"
  },
  "language_info": {
   "codemirror_mode": {
    "name": "ipython",
    "version": 3
   },
   "file_extension": ".py",
   "mimetype": "text/x-python",
   "name": "python",
   "nbconvert_exporter": "python",
   "pygments_lexer": "ipython3",
   "version": "3.9.7"
  }
 },
 "nbformat": 4,
 "nbformat_minor": 5
}
